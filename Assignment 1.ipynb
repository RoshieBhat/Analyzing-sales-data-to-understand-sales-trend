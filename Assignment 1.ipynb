{
 "cells": [
  {
   "cell_type": "markdown",
   "id": "012186ab",
   "metadata": {},
   "source": [
    "Question1 :\n",
    "(A) Given the string 'great', use an appropriate index command that returns 'a'\n",
    "from the string. Given s = ‘great’. (0.5 point)\n",
    "Expected output: ‘a’"
   ]
  },
  {
   "cell_type": "code",
   "execution_count": 1,
   "id": "5ddf568a",
   "metadata": {},
   "outputs": [
    {
     "name": "stdout",
     "output_type": "stream",
     "text": [
      "a\n"
     ]
    }
   ],
   "source": [
    "s = \"great\"\n",
    "print(s[3])"
   ]
  },
  {
   "cell_type": "markdown",
   "id": "a0d968f9",
   "metadata": {},
   "source": [
    "Question1 \n",
    "(B)Write a program to find out the second smallest number in the list given\n",
    "below. (0.5 point)\n",
    "li=[32, 3, 5, 8, 33, 7] & Expected output: 5\n",
    " "
   ]
  },
  {
   "cell_type": "code",
   "execution_count": 2,
   "id": "eb7dd81b",
   "metadata": {},
   "outputs": [
    {
     "name": "stdout",
     "output_type": "stream",
     "text": [
      "Second smallest number is:  5\n"
     ]
    }
   ],
   "source": [
    "\n",
    "list1 = [32,3,5,8,33,7]\n",
    "\n",
    "list1.sort()\n",
    "\n",
    "secondsmall = list1[1]\n",
    "\n",
    "print(\"Second smallest number is: \" , secondsmall)"
   ]
  },
  {
   "cell_type": "markdown",
   "id": "5598359b",
   "metadata": {},
   "source": [
    "Question1 :\n",
    "(C) Find out the unique values of the list given below. (0.5 point)\n",
    "mylist=[1,1,5,3,3,6,11,11] & Expected output: [1,5,3,6,11"
   ]
  },
  {
   "cell_type": "code",
   "execution_count": 3,
   "id": "68ef1745",
   "metadata": {},
   "outputs": [
    {
     "name": "stdout",
     "output_type": "stream",
     "text": [
      "the unique values from list is\n",
      "[ 1  3  5  6 11]\n"
     ]
    }
   ],
   "source": [
    "import numpy as np\n",
    "mylist=[1,1,5,3,3,6,11,11]\n",
    "\n",
    "def unique(mylist):\n",
    "    x = np.array(mylist)\n",
    "    print(np.unique(x))\n",
    "    \n",
    "print(\"the unique values from list is\")\n",
    "unique(mylist)"
   ]
  },
  {
   "cell_type": "markdown",
   "id": "b4c2a0c1",
   "metadata": {},
   "source": [
    "Question1 :\n",
    "(D)\n",
    "Write a program to print cube root of 216 using appropriate syntax. (0.5\n",
    "point)\n",
    "Expected output: 6 "
   ]
  },
  {
   "cell_type": "code",
   "execution_count": 4,
   "id": "a0f5187f",
   "metadata": {},
   "outputs": [
    {
     "name": "stdout",
     "output_type": "stream",
     "text": [
      "5.999999999999999\n"
     ]
    }
   ],
   "source": [
    "var1= float(216)\n",
    "print(var1**(1/3))\n"
   ]
  },
  {
   "cell_type": "code",
   "execution_count": 5,
   "id": "61f74cf9",
   "metadata": {},
   "outputs": [
    {
     "name": "stdout",
     "output_type": "stream",
     "text": [
      "5.999999999999999\n"
     ]
    }
   ],
   "source": [
    "def cube_root(x):\n",
    "        return x**(1/3)\n",
    "print(cube_root(216))"
   ]
  },
  {
   "cell_type": "markdown",
   "id": "1facda7e",
   "metadata": {},
   "source": [
    "QUESTION 2\n",
    "Replace the value 'hello' in the below nested list with 'bye'. (1 point)\n",
    "a = [1, 2, [3, 4, 'hello']] & Expected output: [1, 2, [3, 4, 'bye']]\n"
   ]
  },
  {
   "cell_type": "code",
   "execution_count": 6,
   "id": "14bbc62a",
   "metadata": {},
   "outputs": [
    {
     "name": "stdout",
     "output_type": "stream",
     "text": [
      "[1, 2, [3, 4, 'hello']]\n",
      "[1, 2, [3, 4, 'bye']]\n"
     ]
    }
   ],
   "source": [
    "a = [1, 2, [3, 4, 'hello']] \n",
    "print(a)\n",
    "a[2][2]=\"bye\"\n",
    "print(a)\n"
   ]
  },
  {
   "cell_type": "markdown",
   "id": "f5a68fbf",
   "metadata": {},
   "source": [
    "QUESTION 3\n",
    "Given the below dictionary, write a program that returns [‘object0’]. (1 point)\n",
    "dict = {'a':9, 'b':(2,3,1), 'c':['object0','object1','object2']}\n",
    "Expected output: [‘object0’]"
   ]
  },
  {
   "cell_type": "code",
   "execution_count": 7,
   "id": "254394db",
   "metadata": {},
   "outputs": [
    {
     "name": "stdout",
     "output_type": "stream",
     "text": [
      "object0\n"
     ]
    }
   ],
   "source": [
    "dict = {'a':9, 'b':(2,3,1), 'c':['object0','object1','object2']}\n",
    "print(dict['c'][0])"
   ]
  },
  {
   "cell_type": "markdown",
   "id": "9ec8293f",
   "metadata": {},
   "source": [
    "Question 4:\n",
    "Write a program to calculate the area of a circle. The program should ask for an\n",
    "appropriate input and print the computed area. (2 points)\n",
    "a. Input text: Please enter the radius of the circle.\n",
    "b. If the user enters a value of 5. The output should be: The area of the circle\n",
    "is 78.54\n",
    "c. This program should indicate that the input is invalid if the user enters a\n",
    "character instead of a number as input. For instance if the user enters a\n",
    "value of ‘a’ instead of 5 in the previous example the program should\n",
    "prompt: Invalid input, please enter a number: _\n",
    "\n"
   ]
  },
  {
   "cell_type": "code",
   "execution_count": 8,
   "id": "e77b2fae",
   "metadata": {},
   "outputs": [
    {
     "name": "stdout",
     "output_type": "stream",
     "text": [
      "Please enter the radius of the circle: 5\n",
      " The area of circle is:  78.5\n"
     ]
    }
   ],
   "source": [
    "π = 3.14  \n",
    "\n",
    "Radius = float(input (\"Please enter the radius of the circle: \")) \n",
    "area_of_the_circle = π * Radius * Radius \n",
    "print (\" The area of circle is: \", area_of_the_circle)"
   ]
  },
  {
   "cell_type": "code",
   "execution_count": null,
   "id": "f2c52181",
   "metadata": {},
   "outputs": [],
   "source": [
    "    "
   ]
  },
  {
   "cell_type": "markdown",
   "id": "6b111715",
   "metadata": {},
   "source": [
    "QUESTION 5:\n",
    "Write a program which will take two lists X & Y as input and it will return a list\n",
    "having all the odd numbers present in the two lists. (Note:- common elements\n",
    "can be repeated) (2 points)\n",
    "Input list: X=[1,2,3,4,5] & Y=[5,6,7,8,9]\n",
    "Expected Output: [1,3,5,5,7,9] or [1,3,5,7,9] both are accepted."
   ]
  },
  {
   "cell_type": "code",
   "execution_count": 9,
   "id": "c2ae6fca",
   "metadata": {},
   "outputs": [
    {
     "name": "stdout",
     "output_type": "stream",
     "text": [
      "[1, 3, 5, 5, 7, 9]\n"
     ]
    }
   ],
   "source": [
    "import numpy as np\n",
    "X=np.array([1,2,3,4,5])\n",
    "Y=np.array([5,6,7,8,9])\n",
    "Z=[*X[X%2!=0], *Y[Y%2!=0]]\n",
    "print(Z)"
   ]
  },
  {
   "cell_type": "code",
   "execution_count": null,
   "id": "e5c7de4c",
   "metadata": {},
   "outputs": [],
   "source": []
  },
  {
   "cell_type": "markdown",
   "id": "22e55e97",
   "metadata": {},
   "source": [
    "QUESTION 6:\n",
    "Write a function that prints the integers from 1 to 15. But for multiples of three\n",
    "print \"GREAT\" instead of the number, and for the multiples of five print\n",
    "\"LEARNING\". For numbers which are multiples of both three and five print\n",
    "\"GREATLEARNING\"."
   ]
  },
  {
   "cell_type": "code",
   "execution_count": 11,
   "id": "4c9af137",
   "metadata": {},
   "outputs": [
    {
     "name": "stdout",
     "output_type": "stream",
     "text": [
      "1\n",
      "2\n",
      "Great\n",
      "4\n",
      "Learning\n",
      "Great\n",
      "7\n",
      "8\n",
      "Great\n",
      "Learning\n",
      "11\n",
      "Great\n",
      "13\n",
      "14\n",
      "GreatLearning\n"
     ]
    }
   ],
   "source": [
    "def Greatlearning(i):        \n",
    "    if i%3==0 and i%5==0:\n",
    "        return (\"GreatLearning\")\n",
    "    \n",
    "    elif i%3==0:\n",
    "        return (\"Great\")\n",
    "    \n",
    "    elif i%5==0:\n",
    "        return (\"Learning\")\n",
    "    else:\n",
    "        return (i)\n",
    "        \n",
    "for i in range(1,16):\n",
    "    print(Greatlearning(i))"
   ]
  },
  {
   "cell_type": "markdown",
   "id": "bd6a3bf8",
   "metadata": {},
   "source": [
    "                                        PART 2"
   ]
  },
  {
   "cell_type": "markdown",
   "id": "c23de9c4",
   "metadata": {},
   "source": [
    "QUESTION1. Import necessary libraries and read the provided dataset (online_sales.csv) and\n",
    "check the top 5 and random 5 samples of the dataframe. "
   ]
  },
  {
   "cell_type": "code",
   "execution_count": 18,
   "id": "48e34758",
   "metadata": {},
   "outputs": [
    {
     "data": {
      "text/html": [
       "<div>\n",
       "<style scoped>\n",
       "    .dataframe tbody tr th:only-of-type {\n",
       "        vertical-align: middle;\n",
       "    }\n",
       "\n",
       "    .dataframe tbody tr th {\n",
       "        vertical-align: top;\n",
       "    }\n",
       "\n",
       "    .dataframe thead th {\n",
       "        text-align: right;\n",
       "    }\n",
       "</style>\n",
       "<table border=\"1\" class=\"dataframe\">\n",
       "  <thead>\n",
       "    <tr style=\"text-align: right;\">\n",
       "      <th></th>\n",
       "      <th>InvoiceNo</th>\n",
       "      <th>StockCode</th>\n",
       "      <th>Description</th>\n",
       "      <th>Quantity</th>\n",
       "      <th>InvoiceDate</th>\n",
       "      <th>UnitPrice</th>\n",
       "      <th>CustomerID</th>\n",
       "      <th>Country</th>\n",
       "    </tr>\n",
       "  </thead>\n",
       "  <tbody>\n",
       "    <tr>\n",
       "      <th>0</th>\n",
       "      <td>536365</td>\n",
       "      <td>85123A</td>\n",
       "      <td>WHITE HANGING HEART T-LIGHT HOLDER</td>\n",
       "      <td>6</td>\n",
       "      <td>12/1/10 8:26</td>\n",
       "      <td>2.55</td>\n",
       "      <td>17850.0</td>\n",
       "      <td>United Kingdom</td>\n",
       "    </tr>\n",
       "    <tr>\n",
       "      <th>1</th>\n",
       "      <td>536365</td>\n",
       "      <td>71053</td>\n",
       "      <td>WHITE METAL LANTERN</td>\n",
       "      <td>6</td>\n",
       "      <td>12/1/10 8:26</td>\n",
       "      <td>3.39</td>\n",
       "      <td>17850.0</td>\n",
       "      <td>United Kingdom</td>\n",
       "    </tr>\n",
       "    <tr>\n",
       "      <th>2</th>\n",
       "      <td>536365</td>\n",
       "      <td>84406B</td>\n",
       "      <td>CREAM CUPID HEARTS COAT HANGER</td>\n",
       "      <td>8</td>\n",
       "      <td>12/1/10 8:26</td>\n",
       "      <td>2.75</td>\n",
       "      <td>17850.0</td>\n",
       "      <td>United Kingdom</td>\n",
       "    </tr>\n",
       "    <tr>\n",
       "      <th>3</th>\n",
       "      <td>536365</td>\n",
       "      <td>84029G</td>\n",
       "      <td>KNITTED UNION FLAG HOT WATER BOTTLE</td>\n",
       "      <td>6</td>\n",
       "      <td>12/1/10 8:26</td>\n",
       "      <td>3.39</td>\n",
       "      <td>17850.0</td>\n",
       "      <td>United Kingdom</td>\n",
       "    </tr>\n",
       "    <tr>\n",
       "      <th>4</th>\n",
       "      <td>536365</td>\n",
       "      <td>84029E</td>\n",
       "      <td>RED WOOLLY HOTTIE WHITE HEART.</td>\n",
       "      <td>6</td>\n",
       "      <td>12/1/10 8:26</td>\n",
       "      <td>3.39</td>\n",
       "      <td>17850.0</td>\n",
       "      <td>United Kingdom</td>\n",
       "    </tr>\n",
       "    <tr>\n",
       "      <th>...</th>\n",
       "      <td>...</td>\n",
       "      <td>...</td>\n",
       "      <td>...</td>\n",
       "      <td>...</td>\n",
       "      <td>...</td>\n",
       "      <td>...</td>\n",
       "      <td>...</td>\n",
       "      <td>...</td>\n",
       "    </tr>\n",
       "    <tr>\n",
       "      <th>240002</th>\n",
       "      <td>558077</td>\n",
       "      <td>47590A</td>\n",
       "      <td>BLUE HAPPY BIRTHDAY BUNTING</td>\n",
       "      <td>12</td>\n",
       "      <td>6/26/11 10:59</td>\n",
       "      <td>5.45</td>\n",
       "      <td>13408.0</td>\n",
       "      <td>United Kingdom</td>\n",
       "    </tr>\n",
       "    <tr>\n",
       "      <th>240003</th>\n",
       "      <td>558077</td>\n",
       "      <td>82600</td>\n",
       "      <td>NO SINGING METAL SIGN</td>\n",
       "      <td>12</td>\n",
       "      <td>6/26/11 10:59</td>\n",
       "      <td>2.10</td>\n",
       "      <td>13408.0</td>\n",
       "      <td>United Kingdom</td>\n",
       "    </tr>\n",
       "    <tr>\n",
       "      <th>240004</th>\n",
       "      <td>558077</td>\n",
       "      <td>85123A</td>\n",
       "      <td>WHITE HANGING HEART T-LIGHT HOLDER</td>\n",
       "      <td>32</td>\n",
       "      <td>6/26/11 10:59</td>\n",
       "      <td>2.55</td>\n",
       "      <td>13408.0</td>\n",
       "      <td>United Kingdom</td>\n",
       "    </tr>\n",
       "    <tr>\n",
       "      <th>240005</th>\n",
       "      <td>558077</td>\n",
       "      <td>22746</td>\n",
       "      <td>POPPY'S PLAYHOUSE LIVINGROOM</td>\n",
       "      <td>12</td>\n",
       "      <td>6/26/11 10:59</td>\n",
       "      <td>2.10</td>\n",
       "      <td>13408.0</td>\n",
       "      <td>United Kingdom</td>\n",
       "    </tr>\n",
       "    <tr>\n",
       "      <th>240006</th>\n",
       "      <td>558077</td>\n",
       "      <td>23251</td>\n",
       "      <td>VINTAGE RED ENAMEL TRIM MUG</td>\n",
       "      <td>12</td>\n",
       "      <td>6/26/11 10:59</td>\n",
       "      <td>1.25</td>\n",
       "      <td>13408.0</td>\n",
       "      <td>Unit</td>\n",
       "    </tr>\n",
       "  </tbody>\n",
       "</table>\n",
       "<p>240007 rows × 8 columns</p>\n",
       "</div>"
      ],
      "text/plain": [
       "       InvoiceNo StockCode                          Description  Quantity  \\\n",
       "0         536365    85123A   WHITE HANGING HEART T-LIGHT HOLDER         6   \n",
       "1         536365     71053                  WHITE METAL LANTERN         6   \n",
       "2         536365    84406B       CREAM CUPID HEARTS COAT HANGER         8   \n",
       "3         536365    84029G  KNITTED UNION FLAG HOT WATER BOTTLE         6   \n",
       "4         536365    84029E       RED WOOLLY HOTTIE WHITE HEART.         6   \n",
       "...          ...       ...                                  ...       ...   \n",
       "240002    558077    47590A          BLUE HAPPY BIRTHDAY BUNTING        12   \n",
       "240003    558077     82600                NO SINGING METAL SIGN        12   \n",
       "240004    558077    85123A   WHITE HANGING HEART T-LIGHT HOLDER        32   \n",
       "240005    558077     22746        POPPY'S PLAYHOUSE LIVINGROOM         12   \n",
       "240006    558077     23251         VINTAGE RED ENAMEL TRIM MUG         12   \n",
       "\n",
       "          InvoiceDate  UnitPrice  CustomerID         Country  \n",
       "0        12/1/10 8:26       2.55     17850.0  United Kingdom  \n",
       "1        12/1/10 8:26       3.39     17850.0  United Kingdom  \n",
       "2        12/1/10 8:26       2.75     17850.0  United Kingdom  \n",
       "3        12/1/10 8:26       3.39     17850.0  United Kingdom  \n",
       "4        12/1/10 8:26       3.39     17850.0  United Kingdom  \n",
       "...               ...        ...         ...             ...  \n",
       "240002  6/26/11 10:59       5.45     13408.0  United Kingdom  \n",
       "240003  6/26/11 10:59       2.10     13408.0  United Kingdom  \n",
       "240004  6/26/11 10:59       2.55     13408.0  United Kingdom  \n",
       "240005  6/26/11 10:59       2.10     13408.0  United Kingdom  \n",
       "240006  6/26/11 10:59       1.25     13408.0            Unit  \n",
       "\n",
       "[240007 rows x 8 columns]"
      ]
     },
     "execution_count": 18,
     "metadata": {},
     "output_type": "execute_result"
    }
   ],
   "source": [
    "import pandas as pd\n",
    "df = pd.read_csv(\"online_sales (2).csv\")\n",
    "df"
   ]
  },
  {
   "cell_type": "code",
   "execution_count": 14,
   "id": "f57f99b0",
   "metadata": {},
   "outputs": [
    {
     "data": {
      "text/html": [
       "<div>\n",
       "<style scoped>\n",
       "    .dataframe tbody tr th:only-of-type {\n",
       "        vertical-align: middle;\n",
       "    }\n",
       "\n",
       "    .dataframe tbody tr th {\n",
       "        vertical-align: top;\n",
       "    }\n",
       "\n",
       "    .dataframe thead th {\n",
       "        text-align: right;\n",
       "    }\n",
       "</style>\n",
       "<table border=\"1\" class=\"dataframe\">\n",
       "  <thead>\n",
       "    <tr style=\"text-align: right;\">\n",
       "      <th></th>\n",
       "      <th>InvoiceNo</th>\n",
       "      <th>StockCode</th>\n",
       "      <th>Description</th>\n",
       "      <th>Quantity</th>\n",
       "      <th>InvoiceDate</th>\n",
       "      <th>UnitPrice</th>\n",
       "      <th>CustomerID</th>\n",
       "      <th>Country</th>\n",
       "    </tr>\n",
       "  </thead>\n",
       "  <tbody>\n",
       "    <tr>\n",
       "      <th>36523</th>\n",
       "      <td>539451</td>\n",
       "      <td>21212</td>\n",
       "      <td>PACK OF 72 RETROSPOT CAKE CASES</td>\n",
       "      <td>1</td>\n",
       "      <td>12/17/10 16:59</td>\n",
       "      <td>1.28</td>\n",
       "      <td>NaN</td>\n",
       "      <td>United Kingdom</td>\n",
       "    </tr>\n",
       "  </tbody>\n",
       "</table>\n",
       "</div>"
      ],
      "text/plain": [
       "      InvoiceNo StockCode                      Description  Quantity  \\\n",
       "36523    539451     21212  PACK OF 72 RETROSPOT CAKE CASES         1   \n",
       "\n",
       "          InvoiceDate  UnitPrice  CustomerID         Country  \n",
       "36523  12/17/10 16:59       1.28         NaN  United Kingdom  "
      ]
     },
     "execution_count": 14,
     "metadata": {},
     "output_type": "execute_result"
    }
   ],
   "source": [
    "df.sample()"
   ]
  },
  {
   "cell_type": "code",
   "execution_count": 15,
   "id": "a81c8101",
   "metadata": {},
   "outputs": [
    {
     "data": {
      "text/html": [
       "<div>\n",
       "<style scoped>\n",
       "    .dataframe tbody tr th:only-of-type {\n",
       "        vertical-align: middle;\n",
       "    }\n",
       "\n",
       "    .dataframe tbody tr th {\n",
       "        vertical-align: top;\n",
       "    }\n",
       "\n",
       "    .dataframe thead th {\n",
       "        text-align: right;\n",
       "    }\n",
       "</style>\n",
       "<table border=\"1\" class=\"dataframe\">\n",
       "  <thead>\n",
       "    <tr style=\"text-align: right;\">\n",
       "      <th></th>\n",
       "      <th>InvoiceNo</th>\n",
       "      <th>StockCode</th>\n",
       "      <th>Description</th>\n",
       "      <th>Quantity</th>\n",
       "      <th>InvoiceDate</th>\n",
       "      <th>UnitPrice</th>\n",
       "      <th>CustomerID</th>\n",
       "      <th>Country</th>\n",
       "    </tr>\n",
       "  </thead>\n",
       "  <tbody>\n",
       "    <tr>\n",
       "      <th>219907</th>\n",
       "      <td>556108</td>\n",
       "      <td>23167</td>\n",
       "      <td>SMALL CERAMIC TOP STORAGE JAR</td>\n",
       "      <td>1</td>\n",
       "      <td>6/8/11 17:59</td>\n",
       "      <td>1.63</td>\n",
       "      <td>NaN</td>\n",
       "      <td>United Kingdom</td>\n",
       "    </tr>\n",
       "    <tr>\n",
       "      <th>55308</th>\n",
       "      <td>540986</td>\n",
       "      <td>22294</td>\n",
       "      <td>HEART FILIGREE DOVE  SMALL</td>\n",
       "      <td>24</td>\n",
       "      <td>1/12/11 16:14</td>\n",
       "      <td>1.25</td>\n",
       "      <td>15291.0</td>\n",
       "      <td>United Kingdom</td>\n",
       "    </tr>\n",
       "    <tr>\n",
       "      <th>215400</th>\n",
       "      <td>555704</td>\n",
       "      <td>22469</td>\n",
       "      <td>HEART OF WICKER SMALL</td>\n",
       "      <td>12</td>\n",
       "      <td>6/6/11 15:06</td>\n",
       "      <td>1.65</td>\n",
       "      <td>14944.0</td>\n",
       "      <td>United Kingdom</td>\n",
       "    </tr>\n",
       "    <tr>\n",
       "      <th>206215</th>\n",
       "      <td>554917</td>\n",
       "      <td>22840</td>\n",
       "      <td>ROUND CAKE TIN VINTAGE RED</td>\n",
       "      <td>2</td>\n",
       "      <td>5/27/11 12:29</td>\n",
       "      <td>7.95</td>\n",
       "      <td>15104.0</td>\n",
       "      <td>United Kingdom</td>\n",
       "    </tr>\n",
       "    <tr>\n",
       "      <th>186509</th>\n",
       "      <td>552867</td>\n",
       "      <td>23109</td>\n",
       "      <td>LED TEA LIGHTS</td>\n",
       "      <td>6</td>\n",
       "      <td>5/12/11 8:36</td>\n",
       "      <td>2.89</td>\n",
       "      <td>15513.0</td>\n",
       "      <td>United Kingdom</td>\n",
       "    </tr>\n",
       "  </tbody>\n",
       "</table>\n",
       "</div>"
      ],
      "text/plain": [
       "       InvoiceNo StockCode                     Description  Quantity  \\\n",
       "219907    556108     23167  SMALL CERAMIC TOP STORAGE JAR          1   \n",
       "55308     540986     22294      HEART FILIGREE DOVE  SMALL        24   \n",
       "215400    555704     22469           HEART OF WICKER SMALL        12   \n",
       "206215    554917     22840      ROUND CAKE TIN VINTAGE RED         2   \n",
       "186509    552867     23109                  LED TEA LIGHTS         6   \n",
       "\n",
       "          InvoiceDate  UnitPrice  CustomerID         Country  \n",
       "219907   6/8/11 17:59       1.63         NaN  United Kingdom  \n",
       "55308   1/12/11 16:14       1.25     15291.0  United Kingdom  \n",
       "215400   6/6/11 15:06       1.65     14944.0  United Kingdom  \n",
       "206215  5/27/11 12:29       7.95     15104.0  United Kingdom  \n",
       "186509   5/12/11 8:36       2.89     15513.0  United Kingdom  "
      ]
     },
     "execution_count": 15,
     "metadata": {},
     "output_type": "execute_result"
    }
   ],
   "source": [
    "df.sample(n=5)"
   ]
  },
  {
   "cell_type": "code",
   "execution_count": 7,
   "id": "7e7c4e0e",
   "metadata": {},
   "outputs": [
    {
     "data": {
      "text/html": [
       "<div>\n",
       "<style scoped>\n",
       "    .dataframe tbody tr th:only-of-type {\n",
       "        vertical-align: middle;\n",
       "    }\n",
       "\n",
       "    .dataframe tbody tr th {\n",
       "        vertical-align: top;\n",
       "    }\n",
       "\n",
       "    .dataframe thead th {\n",
       "        text-align: right;\n",
       "    }\n",
       "</style>\n",
       "<table border=\"1\" class=\"dataframe\">\n",
       "  <thead>\n",
       "    <tr style=\"text-align: right;\">\n",
       "      <th></th>\n",
       "      <th>InvoiceNo</th>\n",
       "      <th>StockCode</th>\n",
       "      <th>Description</th>\n",
       "      <th>Quantity</th>\n",
       "      <th>InvoiceDate</th>\n",
       "      <th>UnitPrice</th>\n",
       "      <th>CustomerID</th>\n",
       "      <th>Country</th>\n",
       "    </tr>\n",
       "  </thead>\n",
       "  <tbody>\n",
       "    <tr>\n",
       "      <th>0</th>\n",
       "      <td>536365</td>\n",
       "      <td>85123A</td>\n",
       "      <td>WHITE HANGING HEART T-LIGHT HOLDER</td>\n",
       "      <td>6</td>\n",
       "      <td>12/1/10 8:26</td>\n",
       "      <td>2.55</td>\n",
       "      <td>17850.0</td>\n",
       "      <td>United Kingdom</td>\n",
       "    </tr>\n",
       "    <tr>\n",
       "      <th>1</th>\n",
       "      <td>536365</td>\n",
       "      <td>71053</td>\n",
       "      <td>WHITE METAL LANTERN</td>\n",
       "      <td>6</td>\n",
       "      <td>12/1/10 8:26</td>\n",
       "      <td>3.39</td>\n",
       "      <td>17850.0</td>\n",
       "      <td>United Kingdom</td>\n",
       "    </tr>\n",
       "    <tr>\n",
       "      <th>2</th>\n",
       "      <td>536365</td>\n",
       "      <td>84406B</td>\n",
       "      <td>CREAM CUPID HEARTS COAT HANGER</td>\n",
       "      <td>8</td>\n",
       "      <td>12/1/10 8:26</td>\n",
       "      <td>2.75</td>\n",
       "      <td>17850.0</td>\n",
       "      <td>United Kingdom</td>\n",
       "    </tr>\n",
       "    <tr>\n",
       "      <th>3</th>\n",
       "      <td>536365</td>\n",
       "      <td>84029G</td>\n",
       "      <td>KNITTED UNION FLAG HOT WATER BOTTLE</td>\n",
       "      <td>6</td>\n",
       "      <td>12/1/10 8:26</td>\n",
       "      <td>3.39</td>\n",
       "      <td>17850.0</td>\n",
       "      <td>United Kingdom</td>\n",
       "    </tr>\n",
       "    <tr>\n",
       "      <th>4</th>\n",
       "      <td>536365</td>\n",
       "      <td>84029E</td>\n",
       "      <td>RED WOOLLY HOTTIE WHITE HEART.</td>\n",
       "      <td>6</td>\n",
       "      <td>12/1/10 8:26</td>\n",
       "      <td>3.39</td>\n",
       "      <td>17850.0</td>\n",
       "      <td>United Kingdom</td>\n",
       "    </tr>\n",
       "  </tbody>\n",
       "</table>\n",
       "</div>"
      ],
      "text/plain": [
       "  InvoiceNo StockCode                          Description  Quantity  \\\n",
       "0    536365    85123A   WHITE HANGING HEART T-LIGHT HOLDER         6   \n",
       "1    536365     71053                  WHITE METAL LANTERN         6   \n",
       "2    536365    84406B       CREAM CUPID HEARTS COAT HANGER         8   \n",
       "3    536365    84029G  KNITTED UNION FLAG HOT WATER BOTTLE         6   \n",
       "4    536365    84029E       RED WOOLLY HOTTIE WHITE HEART.         6   \n",
       "\n",
       "    InvoiceDate  UnitPrice  CustomerID         Country  \n",
       "0  12/1/10 8:26       2.55     17850.0  United Kingdom  \n",
       "1  12/1/10 8:26       3.39     17850.0  United Kingdom  \n",
       "2  12/1/10 8:26       2.75     17850.0  United Kingdom  \n",
       "3  12/1/10 8:26       3.39     17850.0  United Kingdom  \n",
       "4  12/1/10 8:26       3.39     17850.0  United Kingdom  "
      ]
     },
     "execution_count": 7,
     "metadata": {},
     "output_type": "execute_result"
    }
   ],
   "source": [
    "\n",
    "df.head()"
   ]
  },
  {
   "cell_type": "markdown",
   "id": "0c0c1189",
   "metadata": {},
   "source": [
    "Question 2:\n",
    "Check info of the dataframe and write your observations. Comment on data\n",
    "types and shape of the dataset."
   ]
  },
  {
   "cell_type": "code",
   "execution_count": 21,
   "id": "42c6734b",
   "metadata": {},
   "outputs": [
    {
     "data": {
      "text/plain": [
       "(240007, 8)"
      ]
     },
     "execution_count": 21,
     "metadata": {},
     "output_type": "execute_result"
    }
   ],
   "source": [
    "df.shape"
   ]
  },
  {
   "cell_type": "code",
   "execution_count": 22,
   "id": "37d5f697",
   "metadata": {},
   "outputs": [
    {
     "data": {
      "text/plain": [
       "InvoiceNo       object\n",
       "StockCode       object\n",
       "Description     object\n",
       "Quantity         int64\n",
       "InvoiceDate     object\n",
       "UnitPrice      float64\n",
       "CustomerID     float64\n",
       "Country         object\n",
       "dtype: object"
      ]
     },
     "execution_count": 22,
     "metadata": {},
     "output_type": "execute_result"
    }
   ],
   "source": [
    "df.dtypes"
   ]
  },
  {
   "cell_type": "code",
   "execution_count": null,
   "id": "726b0450",
   "metadata": {},
   "outputs": [],
   "source": []
  },
  {
   "cell_type": "markdown",
   "id": "623bba12",
   "metadata": {},
   "source": [
    "Question3:. Check for null values and report the percentage of null values of each column.\n",
    "And drop the rows having null values in it. "
   ]
  },
  {
   "cell_type": "code",
   "execution_count": 23,
   "id": "5614f6be",
   "metadata": {},
   "outputs": [
    {
     "data": {
      "text/plain": [
       "InvoiceNo       0.000000\n",
       "StockCode       0.000000\n",
       "Description     0.375406\n",
       "Quantity        0.000000\n",
       "InvoiceDate     0.000000\n",
       "UnitPrice       0.000000\n",
       "CustomerID     28.009600\n",
       "Country         0.000000\n",
       "dtype: float64"
      ]
     },
     "execution_count": 23,
     "metadata": {},
     "output_type": "execute_result"
    }
   ],
   "source": [
    "percent_missing = df.isnull().sum() * 100 / len(df)\n",
    "missing_value_df = pd.DataFrame({'column_name': df.columns,\n",
    "                                 'percent_missing': percent_missing})\n",
    "percent_missing\n"
   ]
  },
  {
   "cell_type": "code",
   "execution_count": 257,
   "id": "4232a7b3",
   "metadata": {},
   "outputs": [
    {
     "name": "stdout",
     "output_type": "stream",
     "text": [
      "0\n",
      "0\n",
      "901\n",
      "0\n",
      "0\n",
      "0\n",
      "67225\n",
      "0\n"
     ]
    }
   ],
   "source": [
    "print(df['InvoiceNo'].isnull().sum())\n",
    "print(df['StockCode'].isnull().sum())\n",
    "print(df['Description'].isnull().sum())\n",
    "print(df['Quantity'].isnull().sum())\n",
    "print(df['InvoiceDate'].isnull().sum())\n",
    "print(df['UnitPrice'].isnull().sum())\n",
    "print(df['CustomerID'].isnull().sum())\n",
    "print(df['Country'].isnull().sum())"
   ]
  },
  {
   "cell_type": "code",
   "execution_count": 24,
   "id": "a37bcdf7",
   "metadata": {},
   "outputs": [
    {
     "name": "stdout",
     "output_type": "stream",
     "text": [
      "<class 'pandas.core.frame.DataFrame'>\n",
      "RangeIndex: 240007 entries, 0 to 240006\n",
      "Data columns (total 8 columns):\n",
      " #   Column       Non-Null Count   Dtype  \n",
      "---  ------       --------------   -----  \n",
      " 0   InvoiceNo    240007 non-null  object \n",
      " 1   StockCode    240007 non-null  object \n",
      " 2   Description  239106 non-null  object \n",
      " 3   Quantity     240007 non-null  int64  \n",
      " 4   InvoiceDate  240007 non-null  object \n",
      " 5   UnitPrice    240007 non-null  float64\n",
      " 6   CustomerID   172782 non-null  float64\n",
      " 7   Country      240007 non-null  object \n",
      "dtypes: float64(2), int64(1), object(5)\n",
      "memory usage: 14.6+ MB\n"
     ]
    }
   ],
   "source": [
    "df.info()"
   ]
  },
  {
   "cell_type": "markdown",
   "id": "e563eb47",
   "metadata": {},
   "source": [
    "Question 4: Check the statistical summary of the dataset. (Use inbuilt functions) "
   ]
  },
  {
   "cell_type": "code",
   "execution_count": 25,
   "id": "fed9e7f3",
   "metadata": {},
   "outputs": [
    {
     "name": "stdout",
     "output_type": "stream",
     "text": [
      "            Quantity      UnitPrice     CustomerID\n",
      "count  240007.000000  240007.000000  172782.000000\n",
      "mean        9.277646       5.124265   15274.819941\n",
      "std       223.061608     119.992279    1725.093177\n",
      "min    -74215.000000       0.000000   12346.000000\n",
      "25%         1.000000       1.250000   13842.000000\n",
      "50%         3.000000       2.100000   15132.000000\n",
      "75%        10.000000       4.210000   16814.000000\n",
      "max     74215.000000   38970.000000   18287.000000\n"
     ]
    }
   ],
   "source": [
    "print(df.describe())"
   ]
  },
  {
   "cell_type": "code",
   "execution_count": null,
   "id": "4590fac2",
   "metadata": {},
   "outputs": [],
   "source": []
  },
  {
   "cell_type": "markdown",
   "id": "f9f4c9f6",
   "metadata": {},
   "source": [
    "Question 5:Drop the instances having quantity less than zero."
   ]
  },
  {
   "cell_type": "code",
   "execution_count": 26,
   "id": "75fbfed3",
   "metadata": {},
   "outputs": [
    {
     "data": {
      "text/html": [
       "<div>\n",
       "<style scoped>\n",
       "    .dataframe tbody tr th:only-of-type {\n",
       "        vertical-align: middle;\n",
       "    }\n",
       "\n",
       "    .dataframe tbody tr th {\n",
       "        vertical-align: top;\n",
       "    }\n",
       "\n",
       "    .dataframe thead th {\n",
       "        text-align: right;\n",
       "    }\n",
       "</style>\n",
       "<table border=\"1\" class=\"dataframe\">\n",
       "  <thead>\n",
       "    <tr style=\"text-align: right;\">\n",
       "      <th></th>\n",
       "      <th>InvoiceNo</th>\n",
       "      <th>StockCode</th>\n",
       "      <th>Description</th>\n",
       "      <th>Quantity</th>\n",
       "      <th>InvoiceDate</th>\n",
       "      <th>UnitPrice</th>\n",
       "      <th>CustomerID</th>\n",
       "      <th>Country</th>\n",
       "    </tr>\n",
       "  </thead>\n",
       "  <tbody>\n",
       "    <tr>\n",
       "      <th>141</th>\n",
       "      <td>C536379</td>\n",
       "      <td>D</td>\n",
       "      <td>Discount</td>\n",
       "      <td>-1</td>\n",
       "      <td>12/1/10 9:41</td>\n",
       "      <td>27.50</td>\n",
       "      <td>14527.0</td>\n",
       "      <td>United Kingdom</td>\n",
       "    </tr>\n",
       "    <tr>\n",
       "      <th>154</th>\n",
       "      <td>C536383</td>\n",
       "      <td>35004C</td>\n",
       "      <td>SET OF 3 COLOURED  FLYING DUCKS</td>\n",
       "      <td>-1</td>\n",
       "      <td>12/1/10 9:49</td>\n",
       "      <td>4.65</td>\n",
       "      <td>15311.0</td>\n",
       "      <td>United Kingdom</td>\n",
       "    </tr>\n",
       "    <tr>\n",
       "      <th>235</th>\n",
       "      <td>C536391</td>\n",
       "      <td>22556</td>\n",
       "      <td>PLASTERS IN TIN CIRCUS PARADE</td>\n",
       "      <td>-12</td>\n",
       "      <td>12/1/10 10:24</td>\n",
       "      <td>1.65</td>\n",
       "      <td>17548.0</td>\n",
       "      <td>United Kingdom</td>\n",
       "    </tr>\n",
       "    <tr>\n",
       "      <th>236</th>\n",
       "      <td>C536391</td>\n",
       "      <td>21984</td>\n",
       "      <td>PACK OF 12 PINK PAISLEY TISSUES</td>\n",
       "      <td>-24</td>\n",
       "      <td>12/1/10 10:24</td>\n",
       "      <td>0.29</td>\n",
       "      <td>17548.0</td>\n",
       "      <td>United Kingdom</td>\n",
       "    </tr>\n",
       "    <tr>\n",
       "      <th>237</th>\n",
       "      <td>C536391</td>\n",
       "      <td>21983</td>\n",
       "      <td>PACK OF 12 BLUE PAISLEY TISSUES</td>\n",
       "      <td>-24</td>\n",
       "      <td>12/1/10 10:24</td>\n",
       "      <td>0.29</td>\n",
       "      <td>17548.0</td>\n",
       "      <td>United Kingdom</td>\n",
       "    </tr>\n",
       "    <tr>\n",
       "      <th>...</th>\n",
       "      <td>...</td>\n",
       "      <td>...</td>\n",
       "      <td>...</td>\n",
       "      <td>...</td>\n",
       "      <td>...</td>\n",
       "      <td>...</td>\n",
       "      <td>...</td>\n",
       "      <td>...</td>\n",
       "    </tr>\n",
       "    <tr>\n",
       "      <th>239404</th>\n",
       "      <td>C558048</td>\n",
       "      <td>M</td>\n",
       "      <td>Manual</td>\n",
       "      <td>-1</td>\n",
       "      <td>6/24/11 13:52</td>\n",
       "      <td>542.20</td>\n",
       "      <td>NaN</td>\n",
       "      <td>EIRE</td>\n",
       "    </tr>\n",
       "    <tr>\n",
       "      <th>239549</th>\n",
       "      <td>C558059</td>\n",
       "      <td>23243</td>\n",
       "      <td>SET OF TEA COFFEE SUGAR TINS PANTRY</td>\n",
       "      <td>-1</td>\n",
       "      <td>6/24/11 15:03</td>\n",
       "      <td>4.95</td>\n",
       "      <td>14194.0</td>\n",
       "      <td>United Kingdom</td>\n",
       "    </tr>\n",
       "    <tr>\n",
       "      <th>239550</th>\n",
       "      <td>C558059</td>\n",
       "      <td>82600</td>\n",
       "      <td>NO SINGING METAL SIGN</td>\n",
       "      <td>-2</td>\n",
       "      <td>6/24/11 15:03</td>\n",
       "      <td>1.85</td>\n",
       "      <td>14194.0</td>\n",
       "      <td>United Kingdom</td>\n",
       "    </tr>\n",
       "    <tr>\n",
       "      <th>239551</th>\n",
       "      <td>C558060</td>\n",
       "      <td>22988</td>\n",
       "      <td>SOLDIERS EGG CUP</td>\n",
       "      <td>-1</td>\n",
       "      <td>6/24/11 15:05</td>\n",
       "      <td>1.06</td>\n",
       "      <td>17809.0</td>\n",
       "      <td>United Kingdom</td>\n",
       "    </tr>\n",
       "    <tr>\n",
       "      <th>239552</th>\n",
       "      <td>C558061</td>\n",
       "      <td>23245</td>\n",
       "      <td>SET OF 3 REGENCY CAKE TINS</td>\n",
       "      <td>-1</td>\n",
       "      <td>6/24/11 15:15</td>\n",
       "      <td>4.95</td>\n",
       "      <td>12809.0</td>\n",
       "      <td>Portugal</td>\n",
       "    </tr>\n",
       "  </tbody>\n",
       "</table>\n",
       "<p>5087 rows × 8 columns</p>\n",
       "</div>"
      ],
      "text/plain": [
       "       InvoiceNo StockCode                          Description  Quantity  \\\n",
       "141      C536379         D                             Discount        -1   \n",
       "154      C536383    35004C      SET OF 3 COLOURED  FLYING DUCKS        -1   \n",
       "235      C536391     22556       PLASTERS IN TIN CIRCUS PARADE        -12   \n",
       "236      C536391     21984     PACK OF 12 PINK PAISLEY TISSUES        -24   \n",
       "237      C536391     21983     PACK OF 12 BLUE PAISLEY TISSUES        -24   \n",
       "...          ...       ...                                  ...       ...   \n",
       "239404   C558048         M                               Manual        -1   \n",
       "239549   C558059     23243  SET OF TEA COFFEE SUGAR TINS PANTRY        -1   \n",
       "239550   C558059     82600                NO SINGING METAL SIGN        -2   \n",
       "239551   C558060     22988                    SOLDIERS EGG CUP         -1   \n",
       "239552   C558061     23245           SET OF 3 REGENCY CAKE TINS        -1   \n",
       "\n",
       "          InvoiceDate  UnitPrice  CustomerID         Country  \n",
       "141      12/1/10 9:41      27.50     14527.0  United Kingdom  \n",
       "154      12/1/10 9:49       4.65     15311.0  United Kingdom  \n",
       "235     12/1/10 10:24       1.65     17548.0  United Kingdom  \n",
       "236     12/1/10 10:24       0.29     17548.0  United Kingdom  \n",
       "237     12/1/10 10:24       0.29     17548.0  United Kingdom  \n",
       "...               ...        ...         ...             ...  \n",
       "239404  6/24/11 13:52     542.20         NaN            EIRE  \n",
       "239549  6/24/11 15:03       4.95     14194.0  United Kingdom  \n",
       "239550  6/24/11 15:03       1.85     14194.0  United Kingdom  \n",
       "239551  6/24/11 15:05       1.06     17809.0  United Kingdom  \n",
       "239552  6/24/11 15:15       4.95     12809.0        Portugal  \n",
       "\n",
       "[5087 rows x 8 columns]"
      ]
     },
     "execution_count": 26,
     "metadata": {},
     "output_type": "execute_result"
    }
   ],
   "source": [
    "df[df['Quantity']<0]"
   ]
  },
  {
   "cell_type": "markdown",
   "id": "a4db5c92",
   "metadata": {},
   "source": [
    "Question 6: Check unique values of the country and report the name of the country that has\n",
    "the highest number of instances/rows"
   ]
  },
  {
   "cell_type": "code",
   "execution_count": 27,
   "id": "963426dd",
   "metadata": {},
   "outputs": [
    {
     "data": {
      "text/html": [
       "<div>\n",
       "<style scoped>\n",
       "    .dataframe tbody tr th:only-of-type {\n",
       "        vertical-align: middle;\n",
       "    }\n",
       "\n",
       "    .dataframe tbody tr th {\n",
       "        vertical-align: top;\n",
       "    }\n",
       "\n",
       "    .dataframe thead th {\n",
       "        text-align: right;\n",
       "    }\n",
       "</style>\n",
       "<table border=\"1\" class=\"dataframe\">\n",
       "  <thead>\n",
       "    <tr style=\"text-align: right;\">\n",
       "      <th></th>\n",
       "      <th>count</th>\n",
       "      <th>unique</th>\n",
       "      <th>top</th>\n",
       "      <th>freq</th>\n",
       "    </tr>\n",
       "  </thead>\n",
       "  <tbody>\n",
       "    <tr>\n",
       "      <th>InvoiceNo</th>\n",
       "      <td>240007</td>\n",
       "      <td>12468</td>\n",
       "      <td>537434</td>\n",
       "      <td>675</td>\n",
       "    </tr>\n",
       "    <tr>\n",
       "      <th>StockCode</th>\n",
       "      <td>240007</td>\n",
       "      <td>3645</td>\n",
       "      <td>85123A</td>\n",
       "      <td>1294</td>\n",
       "    </tr>\n",
       "    <tr>\n",
       "      <th>Description</th>\n",
       "      <td>239106</td>\n",
       "      <td>3617</td>\n",
       "      <td>WHITE HANGING HEART T-LIGHT HOLDER</td>\n",
       "      <td>1319</td>\n",
       "    </tr>\n",
       "    <tr>\n",
       "      <th>InvoiceDate</th>\n",
       "      <td>240007</td>\n",
       "      <td>11240</td>\n",
       "      <td>12/6/10 16:57</td>\n",
       "      <td>675</td>\n",
       "    </tr>\n",
       "    <tr>\n",
       "      <th>Country</th>\n",
       "      <td>240007</td>\n",
       "      <td>38</td>\n",
       "      <td>United Kingdom</td>\n",
       "      <td>220279</td>\n",
       "    </tr>\n",
       "  </tbody>\n",
       "</table>\n",
       "</div>"
      ],
      "text/plain": [
       "              count unique                                 top    freq\n",
       "InvoiceNo    240007  12468                              537434     675\n",
       "StockCode    240007   3645                              85123A    1294\n",
       "Description  239106   3617  WHITE HANGING HEART T-LIGHT HOLDER    1319\n",
       "InvoiceDate  240007  11240                       12/6/10 16:57     675\n",
       "Country      240007     38                      United Kingdom  220279"
      ]
     },
     "execution_count": 27,
     "metadata": {},
     "output_type": "execute_result"
    }
   ],
   "source": [
    "df.describe(include = 'O').T"
   ]
  },
  {
   "cell_type": "code",
   "execution_count": 28,
   "id": "044cfea5",
   "metadata": {},
   "outputs": [
    {
     "data": {
      "text/plain": [
       "United Kingdom          220279\n",
       "Germany                   4208\n",
       "France                    3642\n",
       "EIRE                      3034\n",
       "Spain                     1142\n",
       "Netherlands               1142\n",
       "Belgium                    933\n",
       "Switzerland                708\n",
       "Australia                  642\n",
       "Portugal                   624\n",
       "Norway                     378\n",
       "Channel Islands            368\n",
       "Cyprus                     353\n",
       "Finland                    312\n",
       "Italy                      309\n",
       "Japan                      251\n",
       "Hong Kong                  200\n",
       "Sweden                     200\n",
       "Poland                     187\n",
       "Denmark                    184\n",
       "Austria                    127\n",
       "Singapore                  118\n",
       "Iceland                    102\n",
       "Greece                      85\n",
       "Unspecified                 83\n",
       "Canada                      68\n",
       "Malta                       47\n",
       "Lebanon                     45\n",
       "Israel                      38\n",
       "Lithuania                   35\n",
       "European Community          32\n",
       "Brazil                      32\n",
       "United Arab Emirates        30\n",
       "USA                         22\n",
       "Bahrain                     19\n",
       "Czech Republic              17\n",
       "Saudi Arabia                10\n",
       "Unit                         1\n",
       "Name: Country, dtype: int64"
      ]
     },
     "execution_count": 28,
     "metadata": {},
     "output_type": "execute_result"
    }
   ],
   "source": [
    "pd.value_counts(df.Country)"
   ]
  },
  {
   "cell_type": "code",
   "execution_count": null,
   "id": "57ca90a0",
   "metadata": {},
   "outputs": [],
   "source": []
  },
  {
   "cell_type": "markdown",
   "id": "587b451c",
   "metadata": {},
   "source": [
    "Question 7: Create a new column with the name as ‘sales’ having total sales. The total sales\n",
    "is defined as Quantity*UnitPrice. "
   ]
  },
  {
   "cell_type": "code",
   "execution_count": 29,
   "id": "fa1e5336",
   "metadata": {},
   "outputs": [
    {
     "data": {
      "text/html": [
       "<div>\n",
       "<style scoped>\n",
       "    .dataframe tbody tr th:only-of-type {\n",
       "        vertical-align: middle;\n",
       "    }\n",
       "\n",
       "    .dataframe tbody tr th {\n",
       "        vertical-align: top;\n",
       "    }\n",
       "\n",
       "    .dataframe thead th {\n",
       "        text-align: right;\n",
       "    }\n",
       "</style>\n",
       "<table border=\"1\" class=\"dataframe\">\n",
       "  <thead>\n",
       "    <tr style=\"text-align: right;\">\n",
       "      <th></th>\n",
       "      <th>InvoiceNo</th>\n",
       "      <th>StockCode</th>\n",
       "      <th>Description</th>\n",
       "      <th>Quantity</th>\n",
       "      <th>InvoiceDate</th>\n",
       "      <th>UnitPrice</th>\n",
       "      <th>CustomerID</th>\n",
       "      <th>Country</th>\n",
       "      <th>Sales</th>\n",
       "    </tr>\n",
       "  </thead>\n",
       "  <tbody>\n",
       "    <tr>\n",
       "      <th>0</th>\n",
       "      <td>536365</td>\n",
       "      <td>85123A</td>\n",
       "      <td>WHITE HANGING HEART T-LIGHT HOLDER</td>\n",
       "      <td>6</td>\n",
       "      <td>12/1/10 8:26</td>\n",
       "      <td>2.55</td>\n",
       "      <td>17850.0</td>\n",
       "      <td>United Kingdom</td>\n",
       "      <td>15.30</td>\n",
       "    </tr>\n",
       "    <tr>\n",
       "      <th>1</th>\n",
       "      <td>536365</td>\n",
       "      <td>71053</td>\n",
       "      <td>WHITE METAL LANTERN</td>\n",
       "      <td>6</td>\n",
       "      <td>12/1/10 8:26</td>\n",
       "      <td>3.39</td>\n",
       "      <td>17850.0</td>\n",
       "      <td>United Kingdom</td>\n",
       "      <td>20.34</td>\n",
       "    </tr>\n",
       "    <tr>\n",
       "      <th>2</th>\n",
       "      <td>536365</td>\n",
       "      <td>84406B</td>\n",
       "      <td>CREAM CUPID HEARTS COAT HANGER</td>\n",
       "      <td>8</td>\n",
       "      <td>12/1/10 8:26</td>\n",
       "      <td>2.75</td>\n",
       "      <td>17850.0</td>\n",
       "      <td>United Kingdom</td>\n",
       "      <td>22.00</td>\n",
       "    </tr>\n",
       "    <tr>\n",
       "      <th>3</th>\n",
       "      <td>536365</td>\n",
       "      <td>84029G</td>\n",
       "      <td>KNITTED UNION FLAG HOT WATER BOTTLE</td>\n",
       "      <td>6</td>\n",
       "      <td>12/1/10 8:26</td>\n",
       "      <td>3.39</td>\n",
       "      <td>17850.0</td>\n",
       "      <td>United Kingdom</td>\n",
       "      <td>20.34</td>\n",
       "    </tr>\n",
       "    <tr>\n",
       "      <th>4</th>\n",
       "      <td>536365</td>\n",
       "      <td>84029E</td>\n",
       "      <td>RED WOOLLY HOTTIE WHITE HEART.</td>\n",
       "      <td>6</td>\n",
       "      <td>12/1/10 8:26</td>\n",
       "      <td>3.39</td>\n",
       "      <td>17850.0</td>\n",
       "      <td>United Kingdom</td>\n",
       "      <td>20.34</td>\n",
       "    </tr>\n",
       "    <tr>\n",
       "      <th>5</th>\n",
       "      <td>536365</td>\n",
       "      <td>22752</td>\n",
       "      <td>SET 7 BABUSHKA NESTING BOXES</td>\n",
       "      <td>2</td>\n",
       "      <td>12/1/10 8:26</td>\n",
       "      <td>7.65</td>\n",
       "      <td>17850.0</td>\n",
       "      <td>United Kingdom</td>\n",
       "      <td>15.30</td>\n",
       "    </tr>\n",
       "    <tr>\n",
       "      <th>6</th>\n",
       "      <td>536365</td>\n",
       "      <td>21730</td>\n",
       "      <td>GLASS STAR FROSTED T-LIGHT HOLDER</td>\n",
       "      <td>6</td>\n",
       "      <td>12/1/10 8:26</td>\n",
       "      <td>4.25</td>\n",
       "      <td>17850.0</td>\n",
       "      <td>United Kingdom</td>\n",
       "      <td>25.50</td>\n",
       "    </tr>\n",
       "    <tr>\n",
       "      <th>7</th>\n",
       "      <td>536366</td>\n",
       "      <td>22633</td>\n",
       "      <td>HAND WARMER UNION JACK</td>\n",
       "      <td>6</td>\n",
       "      <td>12/1/10 8:28</td>\n",
       "      <td>1.85</td>\n",
       "      <td>17850.0</td>\n",
       "      <td>United Kingdom</td>\n",
       "      <td>11.10</td>\n",
       "    </tr>\n",
       "    <tr>\n",
       "      <th>8</th>\n",
       "      <td>536366</td>\n",
       "      <td>22632</td>\n",
       "      <td>HAND WARMER RED POLKA DOT</td>\n",
       "      <td>6</td>\n",
       "      <td>12/1/10 8:28</td>\n",
       "      <td>1.85</td>\n",
       "      <td>17850.0</td>\n",
       "      <td>United Kingdom</td>\n",
       "      <td>11.10</td>\n",
       "    </tr>\n",
       "    <tr>\n",
       "      <th>9</th>\n",
       "      <td>536367</td>\n",
       "      <td>84879</td>\n",
       "      <td>ASSORTED COLOUR BIRD ORNAMENT</td>\n",
       "      <td>32</td>\n",
       "      <td>12/1/10 8:34</td>\n",
       "      <td>1.69</td>\n",
       "      <td>13047.0</td>\n",
       "      <td>United Kingdom</td>\n",
       "      <td>54.08</td>\n",
       "    </tr>\n",
       "  </tbody>\n",
       "</table>\n",
       "</div>"
      ],
      "text/plain": [
       "  InvoiceNo StockCode                          Description  Quantity  \\\n",
       "0    536365    85123A   WHITE HANGING HEART T-LIGHT HOLDER         6   \n",
       "1    536365     71053                  WHITE METAL LANTERN         6   \n",
       "2    536365    84406B       CREAM CUPID HEARTS COAT HANGER         8   \n",
       "3    536365    84029G  KNITTED UNION FLAG HOT WATER BOTTLE         6   \n",
       "4    536365    84029E       RED WOOLLY HOTTIE WHITE HEART.         6   \n",
       "5    536365     22752         SET 7 BABUSHKA NESTING BOXES         2   \n",
       "6    536365     21730    GLASS STAR FROSTED T-LIGHT HOLDER         6   \n",
       "7    536366     22633               HAND WARMER UNION JACK         6   \n",
       "8    536366     22632            HAND WARMER RED POLKA DOT         6   \n",
       "9    536367     84879        ASSORTED COLOUR BIRD ORNAMENT        32   \n",
       "\n",
       "    InvoiceDate  UnitPrice  CustomerID         Country  Sales  \n",
       "0  12/1/10 8:26       2.55     17850.0  United Kingdom  15.30  \n",
       "1  12/1/10 8:26       3.39     17850.0  United Kingdom  20.34  \n",
       "2  12/1/10 8:26       2.75     17850.0  United Kingdom  22.00  \n",
       "3  12/1/10 8:26       3.39     17850.0  United Kingdom  20.34  \n",
       "4  12/1/10 8:26       3.39     17850.0  United Kingdom  20.34  \n",
       "5  12/1/10 8:26       7.65     17850.0  United Kingdom  15.30  \n",
       "6  12/1/10 8:26       4.25     17850.0  United Kingdom  25.50  \n",
       "7  12/1/10 8:28       1.85     17850.0  United Kingdom  11.10  \n",
       "8  12/1/10 8:28       1.85     17850.0  United Kingdom  11.10  \n",
       "9  12/1/10 8:34       1.69     13047.0  United Kingdom  54.08  "
      ]
     },
     "execution_count": 29,
     "metadata": {},
     "output_type": "execute_result"
    }
   ],
   "source": [
    "df[\"Sales\"] = (df[\"Quantity\"] * df[\"UnitPrice\"])\n",
    "\n",
    "df.head(10)"
   ]
  },
  {
   "cell_type": "code",
   "execution_count": null,
   "id": "77884c89",
   "metadata": {},
   "outputs": [],
   "source": []
  },
  {
   "cell_type": "markdown",
   "id": "f4778253",
   "metadata": {},
   "source": [
    "Question 8: Report the top 5 countries in terms of sales. (2 points)\n",
    "a. Consider the size of sales.\n",
    "b. Consider the mean value of sales.\n"
   ]
  },
  {
   "cell_type": "code",
   "execution_count": 30,
   "id": "4f70afb4",
   "metadata": {},
   "outputs": [
    {
     "data": {
      "text/html": [
       "<div>\n",
       "<style scoped>\n",
       "    .dataframe tbody tr th:only-of-type {\n",
       "        vertical-align: middle;\n",
       "    }\n",
       "\n",
       "    .dataframe tbody tr th {\n",
       "        vertical-align: top;\n",
       "    }\n",
       "\n",
       "    .dataframe thead th {\n",
       "        text-align: right;\n",
       "    }\n",
       "</style>\n",
       "<table border=\"1\" class=\"dataframe\">\n",
       "  <thead>\n",
       "    <tr style=\"text-align: right;\">\n",
       "      <th></th>\n",
       "      <th>Quantity</th>\n",
       "      <th>UnitPrice</th>\n",
       "      <th>CustomerID</th>\n",
       "      <th>Sales</th>\n",
       "    </tr>\n",
       "    <tr>\n",
       "      <th>Country</th>\n",
       "      <th></th>\n",
       "      <th></th>\n",
       "      <th></th>\n",
       "      <th></th>\n",
       "    </tr>\n",
       "  </thead>\n",
       "  <tbody>\n",
       "    <tr>\n",
       "      <th>United Kingdom</th>\n",
       "      <td>1814801</td>\n",
       "      <td>1109573.911</td>\n",
       "      <td>2.387192e+09</td>\n",
       "      <td>3572911.301</td>\n",
       "    </tr>\n",
       "    <tr>\n",
       "      <th>Netherlands</th>\n",
       "      <td>88842</td>\n",
       "      <td>2877.440</td>\n",
       "      <td>1.633862e+07</td>\n",
       "      <td>125721.310</td>\n",
       "    </tr>\n",
       "    <tr>\n",
       "      <th>Germany</th>\n",
       "      <td>52566</td>\n",
       "      <td>15538.190</td>\n",
       "      <td>5.312239e+07</td>\n",
       "      <td>103525.900</td>\n",
       "    </tr>\n",
       "    <tr>\n",
       "      <th>EIRE</th>\n",
       "      <td>50077</td>\n",
       "      <td>26911.660</td>\n",
       "      <td>3.991843e+07</td>\n",
       "      <td>99384.270</td>\n",
       "    </tr>\n",
       "    <tr>\n",
       "      <th>France</th>\n",
       "      <td>49306</td>\n",
       "      <td>14662.730</td>\n",
       "      <td>4.594356e+07</td>\n",
       "      <td>87442.880</td>\n",
       "    </tr>\n",
       "  </tbody>\n",
       "</table>\n",
       "</div>"
      ],
      "text/plain": [
       "                Quantity    UnitPrice    CustomerID        Sales\n",
       "Country                                                         \n",
       "United Kingdom   1814801  1109573.911  2.387192e+09  3572911.301\n",
       "Netherlands        88842     2877.440  1.633862e+07   125721.310\n",
       "Germany            52566    15538.190  5.312239e+07   103525.900\n",
       "EIRE               50077    26911.660  3.991843e+07    99384.270\n",
       "France             49306    14662.730  4.594356e+07    87442.880"
      ]
     },
     "execution_count": 30,
     "metadata": {},
     "output_type": "execute_result"
    }
   ],
   "source": [
    "df.groupby([\"Country\"]).sum().sort_values(\"Sales\", ascending=False).head(5)\n"
   ]
  },
  {
   "cell_type": "code",
   "execution_count": 31,
   "id": "13488b45",
   "metadata": {},
   "outputs": [
    {
     "data": {
      "text/html": [
       "<div>\n",
       "<style scoped>\n",
       "    .dataframe tbody tr th:only-of-type {\n",
       "        vertical-align: middle;\n",
       "    }\n",
       "\n",
       "    .dataframe tbody tr th {\n",
       "        vertical-align: top;\n",
       "    }\n",
       "\n",
       "    .dataframe thead th {\n",
       "        text-align: right;\n",
       "    }\n",
       "</style>\n",
       "<table border=\"1\" class=\"dataframe\">\n",
       "  <thead>\n",
       "    <tr style=\"text-align: right;\">\n",
       "      <th></th>\n",
       "      <th>Quantity</th>\n",
       "      <th>UnitPrice</th>\n",
       "      <th>CustomerID</th>\n",
       "      <th>Sales</th>\n",
       "    </tr>\n",
       "    <tr>\n",
       "      <th>Country</th>\n",
       "      <th></th>\n",
       "      <th></th>\n",
       "      <th></th>\n",
       "      <th></th>\n",
       "    </tr>\n",
       "  </thead>\n",
       "  <tbody>\n",
       "    <tr>\n",
       "      <th>Australia</th>\n",
       "      <td>77.116822</td>\n",
       "      <td>3.434548</td>\n",
       "      <td>12475.732087</td>\n",
       "      <td>123.164003</td>\n",
       "    </tr>\n",
       "    <tr>\n",
       "      <th>Netherlands</th>\n",
       "      <td>77.795096</td>\n",
       "      <td>2.519650</td>\n",
       "      <td>14307.020140</td>\n",
       "      <td>110.088713</td>\n",
       "    </tr>\n",
       "    <tr>\n",
       "      <th>Japan</th>\n",
       "      <td>69.513944</td>\n",
       "      <td>2.253904</td>\n",
       "      <td>12755.832669</td>\n",
       "      <td>84.194183</td>\n",
       "    </tr>\n",
       "    <tr>\n",
       "      <th>Sweden</th>\n",
       "      <td>79.330000</td>\n",
       "      <td>4.024050</td>\n",
       "      <td>14831.915000</td>\n",
       "      <td>77.243900</td>\n",
       "    </tr>\n",
       "    <tr>\n",
       "      <th>Denmark</th>\n",
       "      <td>18.853261</td>\n",
       "      <td>3.501359</td>\n",
       "      <td>12408.826087</td>\n",
       "      <td>51.285652</td>\n",
       "    </tr>\n",
       "  </tbody>\n",
       "</table>\n",
       "</div>"
      ],
      "text/plain": [
       "              Quantity  UnitPrice    CustomerID       Sales\n",
       "Country                                                    \n",
       "Australia    77.116822   3.434548  12475.732087  123.164003\n",
       "Netherlands  77.795096   2.519650  14307.020140  110.088713\n",
       "Japan        69.513944   2.253904  12755.832669   84.194183\n",
       "Sweden       79.330000   4.024050  14831.915000   77.243900\n",
       "Denmark      18.853261   3.501359  12408.826087   51.285652"
      ]
     },
     "execution_count": 31,
     "metadata": {},
     "output_type": "execute_result"
    }
   ],
   "source": [
    "df.groupby([\"Country\"]).mean().sort_values(\"Sales\", ascending=False).head(5)"
   ]
  },
  {
   "cell_type": "code",
   "execution_count": null,
   "id": "116e86d0",
   "metadata": {},
   "outputs": [],
   "source": []
  },
  {
   "cell_type": "markdown",
   "id": "d0dcbf77",
   "metadata": {},
   "source": [
    "Question 9:Report the top 5 products which bring the highest sales. Use StockCode for\n",
    "product information."
   ]
  },
  {
   "cell_type": "code",
   "execution_count": 32,
   "id": "fc8dd2d8",
   "metadata": {},
   "outputs": [
    {
     "data": {
      "text/plain": [
       "StockCode\n",
       "22423     101062.44\n",
       "DOT        87935.97\n",
       "47566      57243.34\n",
       "85123A     55274.90\n",
       "22502      50357.47\n",
       "Name: Sales, dtype: float64"
      ]
     },
     "execution_count": 32,
     "metadata": {},
     "output_type": "execute_result"
    }
   ],
   "source": [
    "group = df.groupby([\"StockCode\"]).sum()\n",
    "total_price = group[\"Sales\"]\n",
    "total_price.nlargest(5)"
   ]
  },
  {
   "cell_type": "code",
   "execution_count": null,
   "id": "68fd3673",
   "metadata": {},
   "outputs": [],
   "source": []
  },
  {
   "cell_type": "markdown",
   "id": "7abdd410",
   "metadata": {},
   "source": [
    "Question 10:\n",
    "    Convert the ‘InvoiceDate’ into a date format and report the month on which\n",
    "the maximum sales occur?"
   ]
  },
  {
   "cell_type": "code",
   "execution_count": 33,
   "id": "f6fe1053",
   "metadata": {},
   "outputs": [
    {
     "data": {
      "text/html": [
       "<div>\n",
       "<style scoped>\n",
       "    .dataframe tbody tr th:only-of-type {\n",
       "        vertical-align: middle;\n",
       "    }\n",
       "\n",
       "    .dataframe tbody tr th {\n",
       "        vertical-align: top;\n",
       "    }\n",
       "\n",
       "    .dataframe thead th {\n",
       "        text-align: right;\n",
       "    }\n",
       "</style>\n",
       "<table border=\"1\" class=\"dataframe\">\n",
       "  <thead>\n",
       "    <tr style=\"text-align: right;\">\n",
       "      <th></th>\n",
       "      <th>InvoiceNo</th>\n",
       "      <th>StockCode</th>\n",
       "      <th>Description</th>\n",
       "      <th>Quantity</th>\n",
       "      <th>InvoiceDate</th>\n",
       "      <th>UnitPrice</th>\n",
       "      <th>CustomerID</th>\n",
       "      <th>Country</th>\n",
       "      <th>Sales</th>\n",
       "    </tr>\n",
       "  </thead>\n",
       "  <tbody>\n",
       "    <tr>\n",
       "      <th>0</th>\n",
       "      <td>536365</td>\n",
       "      <td>85123A</td>\n",
       "      <td>WHITE HANGING HEART T-LIGHT HOLDER</td>\n",
       "      <td>6</td>\n",
       "      <td>12</td>\n",
       "      <td>2.55</td>\n",
       "      <td>17850.0</td>\n",
       "      <td>United Kingdom</td>\n",
       "      <td>15.30</td>\n",
       "    </tr>\n",
       "    <tr>\n",
       "      <th>1</th>\n",
       "      <td>536365</td>\n",
       "      <td>71053</td>\n",
       "      <td>WHITE METAL LANTERN</td>\n",
       "      <td>6</td>\n",
       "      <td>12</td>\n",
       "      <td>3.39</td>\n",
       "      <td>17850.0</td>\n",
       "      <td>United Kingdom</td>\n",
       "      <td>20.34</td>\n",
       "    </tr>\n",
       "    <tr>\n",
       "      <th>2</th>\n",
       "      <td>536365</td>\n",
       "      <td>84406B</td>\n",
       "      <td>CREAM CUPID HEARTS COAT HANGER</td>\n",
       "      <td>8</td>\n",
       "      <td>12</td>\n",
       "      <td>2.75</td>\n",
       "      <td>17850.0</td>\n",
       "      <td>United Kingdom</td>\n",
       "      <td>22.00</td>\n",
       "    </tr>\n",
       "    <tr>\n",
       "      <th>3</th>\n",
       "      <td>536365</td>\n",
       "      <td>84029G</td>\n",
       "      <td>KNITTED UNION FLAG HOT WATER BOTTLE</td>\n",
       "      <td>6</td>\n",
       "      <td>12</td>\n",
       "      <td>3.39</td>\n",
       "      <td>17850.0</td>\n",
       "      <td>United Kingdom</td>\n",
       "      <td>20.34</td>\n",
       "    </tr>\n",
       "    <tr>\n",
       "      <th>4</th>\n",
       "      <td>536365</td>\n",
       "      <td>84029E</td>\n",
       "      <td>RED WOOLLY HOTTIE WHITE HEART.</td>\n",
       "      <td>6</td>\n",
       "      <td>12</td>\n",
       "      <td>3.39</td>\n",
       "      <td>17850.0</td>\n",
       "      <td>United Kingdom</td>\n",
       "      <td>20.34</td>\n",
       "    </tr>\n",
       "  </tbody>\n",
       "</table>\n",
       "</div>"
      ],
      "text/plain": [
       "  InvoiceNo StockCode                          Description  Quantity  \\\n",
       "0    536365    85123A   WHITE HANGING HEART T-LIGHT HOLDER         6   \n",
       "1    536365     71053                  WHITE METAL LANTERN         6   \n",
       "2    536365    84406B       CREAM CUPID HEARTS COAT HANGER         8   \n",
       "3    536365    84029G  KNITTED UNION FLAG HOT WATER BOTTLE         6   \n",
       "4    536365    84029E       RED WOOLLY HOTTIE WHITE HEART.         6   \n",
       "\n",
       "  InvoiceDate  UnitPrice  CustomerID         Country  Sales  \n",
       "0          12       2.55     17850.0  United Kingdom  15.30  \n",
       "1          12       3.39     17850.0  United Kingdom  20.34  \n",
       "2          12       2.75     17850.0  United Kingdom  22.00  \n",
       "3          12       3.39     17850.0  United Kingdom  20.34  \n",
       "4          12       3.39     17850.0  United Kingdom  20.34  "
      ]
     },
     "execution_count": 33,
     "metadata": {},
     "output_type": "execute_result"
    }
   ],
   "source": [
    "import datetime\n",
    "df['InvoiceDate']=pd.to_datetime(df['InvoiceDate']).dt.strftime('%m')\n",
    "df.head(5)"
   ]
  },
  {
   "cell_type": "code",
   "execution_count": 34,
   "id": "5db3c359",
   "metadata": {},
   "outputs": [
    {
     "data": {
      "text/plain": [
       "InvoiceDate\n",
       "12    748957.020\n",
       "05    723333.510\n",
       "03    683267.080\n",
       "06    568316.290\n",
       "01    560000.260\n",
       "02    498062.650\n",
       "04    493207.121\n",
       "Name: Sales, dtype: float64"
      ]
     },
     "execution_count": 34,
     "metadata": {},
     "output_type": "execute_result"
    }
   ],
   "source": [
    "group = df.groupby([\"InvoiceDate\"]).sum()\n",
    "total_price = group[\"Sales\"]\n",
    "total_price.nlargest(12)"
   ]
  },
  {
   "cell_type": "code",
   "execution_count": null,
   "id": "d51e9553",
   "metadata": {},
   "outputs": [],
   "source": []
  },
  {
   "cell_type": "code",
   "execution_count": null,
   "id": "f555f30e",
   "metadata": {},
   "outputs": [],
   "source": []
  },
  {
   "cell_type": "code",
   "execution_count": null,
   "id": "35b8271d",
   "metadata": {},
   "outputs": [],
   "source": []
  }
 ],
 "metadata": {
  "kernelspec": {
   "display_name": "Python 3 (ipykernel)",
   "language": "python",
   "name": "python3"
  },
  "language_info": {
   "codemirror_mode": {
    "name": "ipython",
    "version": 3
   },
   "file_extension": ".py",
   "mimetype": "text/x-python",
   "name": "python",
   "nbconvert_exporter": "python",
   "pygments_lexer": "ipython3",
   "version": "3.9.7"
  }
 },
 "nbformat": 4,
 "nbformat_minor": 5
}
